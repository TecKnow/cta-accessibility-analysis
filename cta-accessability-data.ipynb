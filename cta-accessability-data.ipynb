{
 "cells": [
  {
   "cell_type": "markdown",
   "metadata": {},
   "source": [
    "# CTA \"L\" accessibility analysis\n"
   ]
  },
  {
   "cell_type": "code",
   "execution_count": 1069,
   "metadata": {},
   "outputs": [],
   "source": [
    "import math\n",
    "import itertools\n",
    "from pathlib import Path\n",
    "import numpy as np\n",
    "import pandas as pd\n",
    "from matplotlib import pyplot"
   ]
  },
  {
   "cell_type": "code",
   "execution_count": 1070,
   "metadata": {},
   "outputs": [],
   "source": [
    "STATION_DATA_PATH = Path(\n",
    "    \"data/CTA_-_System_Information_-_List_of__L__Stops_20240921.csv\")"
   ]
  },
  {
   "cell_type": "code",
   "execution_count": 1071,
   "metadata": {},
   "outputs": [],
   "source": [
    "stations_df = pd.read_csv(STATION_DATA_PATH,\n",
    "                          usecols=[\n",
    "                              \"MAP_ID\", \"STATION_NAME\", \"STATION_DESCRIPTIVE_NAME\", \"ADA\"],\n",
    "                          dtype={\"DIRECTION_ID\": \"category\",\n",
    "                                 \"STOP_NAME\": pd.StringDtype(),\n",
    "                                 \"STATION_NAME\": pd.StringDtype(),\n",
    "                                 \"STATION_DESCRIPTIVE_NAME\": pd.StringDtype(), },\n",
    "\n",
    "                          )"
   ]
  },
  {
   "cell_type": "code",
   "execution_count": 1072,
   "metadata": {},
   "outputs": [],
   "source": [
    "\n",
    "RIDERSHIP_DATA_PATH = Path(\n",
    "    \"data/CTA_-_Ridership_-__L__Station_Entries_-_Monthly_Day-Type_Averages___Totals_20240921.csv\")"
   ]
  },
  {
   "cell_type": "code",
   "execution_count": 1073,
   "metadata": {},
   "outputs": [],
   "source": [
    "ridership_df = pd.read_csv(\n",
    "    RIDERSHIP_DATA_PATH,\n",
    "    usecols=[\"station_id\", \"stationame\", \"month_beginning\", \"monthtotal\"],\n",
    "    dtype={\n",
    "        \"stationname\": pd.StringDtype()\n",
    "    },\n",
    "    parse_dates=[\"month_beginning\"],\n",
    ")"
   ]
  },
  {
   "cell_type": "markdown",
   "metadata": {},
   "source": [
    "## Picking our dates\n"
   ]
  },
  {
   "cell_type": "code",
   "execution_count": 1074,
   "metadata": {},
   "outputs": [
    {
     "data": {
      "text/html": [
       "<div>\n",
       "<style scoped>\n",
       "    .dataframe tbody tr th:only-of-type {\n",
       "        vertical-align: middle;\n",
       "    }\n",
       "\n",
       "    .dataframe tbody tr th {\n",
       "        vertical-align: top;\n",
       "    }\n",
       "\n",
       "    .dataframe thead th {\n",
       "        text-align: right;\n",
       "    }\n",
       "</style>\n",
       "<table border=\"1\" class=\"dataframe\">\n",
       "  <thead>\n",
       "    <tr style=\"text-align: right;\">\n",
       "      <th></th>\n",
       "      <th>station_id</th>\n",
       "      <th>stationame</th>\n",
       "      <th>monthtotal</th>\n",
       "    </tr>\n",
       "    <tr>\n",
       "      <th>month_beginning</th>\n",
       "      <th></th>\n",
       "      <th></th>\n",
       "      <th></th>\n",
       "    </tr>\n",
       "  </thead>\n",
       "  <tbody>\n",
       "    <tr>\n",
       "      <th>2001-01-01</th>\n",
       "      <td>40900</td>\n",
       "      <td>Howard</td>\n",
       "      <td>164447</td>\n",
       "    </tr>\n",
       "    <tr>\n",
       "      <th>2001-01-01</th>\n",
       "      <td>40510</td>\n",
       "      <td>Garfield-South Elevated</td>\n",
       "      <td>19359</td>\n",
       "    </tr>\n",
       "    <tr>\n",
       "      <th>2001-01-01</th>\n",
       "      <td>40130</td>\n",
       "      <td>51st</td>\n",
       "      <td>29609</td>\n",
       "    </tr>\n",
       "    <tr>\n",
       "      <th>2001-01-01</th>\n",
       "      <td>41080</td>\n",
       "      <td>47th-South Elevated</td>\n",
       "      <td>32826</td>\n",
       "    </tr>\n",
       "    <tr>\n",
       "      <th>2001-01-01</th>\n",
       "      <td>41270</td>\n",
       "      <td>43rd</td>\n",
       "      <td>19871</td>\n",
       "    </tr>\n",
       "    <tr>\n",
       "      <th>...</th>\n",
       "      <td>...</td>\n",
       "      <td>...</td>\n",
       "      <td>...</td>\n",
       "    </tr>\n",
       "    <tr>\n",
       "      <th>2024-05-01</th>\n",
       "      <td>41330</td>\n",
       "      <td>Montrose-O'Hare</td>\n",
       "      <td>41468</td>\n",
       "    </tr>\n",
       "    <tr>\n",
       "      <th>2024-05-01</th>\n",
       "      <td>40550</td>\n",
       "      <td>Irving Park-O'Hare</td>\n",
       "      <td>72592</td>\n",
       "    </tr>\n",
       "    <tr>\n",
       "      <th>2024-05-01</th>\n",
       "      <td>41240</td>\n",
       "      <td>Addison-O'Hare</td>\n",
       "      <td>49949</td>\n",
       "    </tr>\n",
       "    <tr>\n",
       "      <th>2024-05-01</th>\n",
       "      <td>40970</td>\n",
       "      <td>Cicero-Forest Park</td>\n",
       "      <td>16943</td>\n",
       "    </tr>\n",
       "    <tr>\n",
       "      <th>2024-05-01</th>\n",
       "      <td>40380</td>\n",
       "      <td>Clark/Lake</td>\n",
       "      <td>236507</td>\n",
       "    </tr>\n",
       "  </tbody>\n",
       "</table>\n",
       "<p>40054 rows × 3 columns</p>\n",
       "</div>"
      ],
      "text/plain": [
       "                 station_id               stationame  monthtotal\n",
       "month_beginning                                                 \n",
       "2001-01-01            40900                   Howard      164447\n",
       "2001-01-01            40510  Garfield-South Elevated       19359\n",
       "2001-01-01            40130                     51st       29609\n",
       "2001-01-01            41080      47th-South Elevated       32826\n",
       "2001-01-01            41270                     43rd       19871\n",
       "...                     ...                      ...         ...\n",
       "2024-05-01            41330          Montrose-O'Hare       41468\n",
       "2024-05-01            40550       Irving Park-O'Hare       72592\n",
       "2024-05-01            41240           Addison-O'Hare       49949\n",
       "2024-05-01            40970       Cicero-Forest Park       16943\n",
       "2024-05-01            40380               Clark/Lake      236507\n",
       "\n",
       "[40054 rows x 3 columns]"
      ]
     },
     "execution_count": 1074,
     "metadata": {},
     "output_type": "execute_result"
    }
   ],
   "source": [
    "ridership_by_date = ridership_df.set_index(\"month_beginning\").sort_index()\n",
    "ridership_by_date"
   ]
  },
  {
   "cell_type": "markdown",
   "metadata": {},
   "source": [
    "It looks like May 2024 is the last month for which ridership numbers are avilable in the data that I have. The station data was last updated more recently, in August 2024. I think it's fine to start with the latest ridership data. Let us isolate that.\n"
   ]
  },
  {
   "cell_type": "code",
   "execution_count": 1075,
   "metadata": {},
   "outputs": [
    {
     "data": {
      "text/html": [
       "<div>\n",
       "<style scoped>\n",
       "    .dataframe tbody tr th:only-of-type {\n",
       "        vertical-align: middle;\n",
       "    }\n",
       "\n",
       "    .dataframe tbody tr th {\n",
       "        vertical-align: top;\n",
       "    }\n",
       "\n",
       "    .dataframe thead th {\n",
       "        text-align: right;\n",
       "    }\n",
       "</style>\n",
       "<table border=\"1\" class=\"dataframe\">\n",
       "  <thead>\n",
       "    <tr style=\"text-align: right;\">\n",
       "      <th></th>\n",
       "      <th>station_id</th>\n",
       "      <th>stationame</th>\n",
       "      <th>monthtotal</th>\n",
       "    </tr>\n",
       "    <tr>\n",
       "      <th>month_beginning</th>\n",
       "      <th></th>\n",
       "      <th></th>\n",
       "      <th></th>\n",
       "    </tr>\n",
       "  </thead>\n",
       "  <tbody>\n",
       "    <tr>\n",
       "      <th>2024-05-01</th>\n",
       "      <td>40480</td>\n",
       "      <td>Cicero-Lake</td>\n",
       "      <td>21842</td>\n",
       "    </tr>\n",
       "    <tr>\n",
       "      <th>2024-05-01</th>\n",
       "      <td>40030</td>\n",
       "      <td>Pulaski-Lake</td>\n",
       "      <td>25981</td>\n",
       "    </tr>\n",
       "    <tr>\n",
       "      <th>2024-05-01</th>\n",
       "      <td>41670</td>\n",
       "      <td>Conservatory</td>\n",
       "      <td>17928</td>\n",
       "    </tr>\n",
       "    <tr>\n",
       "      <th>2024-05-01</th>\n",
       "      <td>41070</td>\n",
       "      <td>Kedzie-Lake</td>\n",
       "      <td>19456</td>\n",
       "    </tr>\n",
       "    <tr>\n",
       "      <th>2024-05-01</th>\n",
       "      <td>41360</td>\n",
       "      <td>California-Lake</td>\n",
       "      <td>19507</td>\n",
       "    </tr>\n",
       "    <tr>\n",
       "      <th>...</th>\n",
       "      <td>...</td>\n",
       "      <td>...</td>\n",
       "      <td>...</td>\n",
       "    </tr>\n",
       "    <tr>\n",
       "      <th>2024-05-01</th>\n",
       "      <td>41330</td>\n",
       "      <td>Montrose-O'Hare</td>\n",
       "      <td>41468</td>\n",
       "    </tr>\n",
       "    <tr>\n",
       "      <th>2024-05-01</th>\n",
       "      <td>40550</td>\n",
       "      <td>Irving Park-O'Hare</td>\n",
       "      <td>72592</td>\n",
       "    </tr>\n",
       "    <tr>\n",
       "      <th>2024-05-01</th>\n",
       "      <td>41240</td>\n",
       "      <td>Addison-O'Hare</td>\n",
       "      <td>49949</td>\n",
       "    </tr>\n",
       "    <tr>\n",
       "      <th>2024-05-01</th>\n",
       "      <td>40970</td>\n",
       "      <td>Cicero-Forest Park</td>\n",
       "      <td>16943</td>\n",
       "    </tr>\n",
       "    <tr>\n",
       "      <th>2024-05-01</th>\n",
       "      <td>40380</td>\n",
       "      <td>Clark/Lake</td>\n",
       "      <td>236507</td>\n",
       "    </tr>\n",
       "  </tbody>\n",
       "</table>\n",
       "<p>143 rows × 3 columns</p>\n",
       "</div>"
      ],
      "text/plain": [
       "                 station_id          stationame  monthtotal\n",
       "month_beginning                                            \n",
       "2024-05-01            40480         Cicero-Lake       21842\n",
       "2024-05-01            40030        Pulaski-Lake       25981\n",
       "2024-05-01            41670        Conservatory       17928\n",
       "2024-05-01            41070         Kedzie-Lake       19456\n",
       "2024-05-01            41360     California-Lake       19507\n",
       "...                     ...                 ...         ...\n",
       "2024-05-01            41330     Montrose-O'Hare       41468\n",
       "2024-05-01            40550  Irving Park-O'Hare       72592\n",
       "2024-05-01            41240      Addison-O'Hare       49949\n",
       "2024-05-01            40970  Cicero-Forest Park       16943\n",
       "2024-05-01            40380          Clark/Lake      236507\n",
       "\n",
       "[143 rows x 3 columns]"
      ]
     },
     "execution_count": 1075,
     "metadata": {},
     "output_type": "execute_result"
    }
   ],
   "source": [
    "latest_ridership_df = ridership_by_date[ridership_by_date.index >= pd.Timestamp(\n",
    "    '2024-05-01')]\n",
    "latest_ridership_df"
   ]
  },
  {
   "cell_type": "markdown",
   "metadata": {},
   "source": [
    "Let's quickly check that each station ID only occurs once\n"
   ]
  },
  {
   "cell_type": "code",
   "execution_count": 1076,
   "metadata": {},
   "outputs": [
    {
     "data": {
      "text/plain": [
       "station_id\n",
       "40010    1\n",
       "40020    1\n",
       "40030    1\n",
       "40040    1\n",
       "40050    1\n",
       "        ..\n",
       "41660    1\n",
       "41670    1\n",
       "41680    1\n",
       "41690    1\n",
       "41700    1\n",
       "Name: count, Length: 143, dtype: int64"
      ]
     },
     "execution_count": 1076,
     "metadata": {},
     "output_type": "execute_result"
    }
   ],
   "source": [
    "station_value_counts = latest_ridership_df.value_counts(\"station_id\")\n",
    "station_value_counts"
   ]
  },
  {
   "cell_type": "code",
   "execution_count": 1077,
   "metadata": {},
   "outputs": [
    {
     "data": {
      "text/plain": [
       "np.int64(1)"
      ]
     },
     "execution_count": 1077,
     "metadata": {},
     "output_type": "execute_result"
    }
   ],
   "source": [
    "station_value_counts.max()"
   ]
  },
  {
   "cell_type": "markdown",
   "metadata": {},
   "source": [
    "Now we need to join the ridership information with the accessibility information.\n"
   ]
  },
  {
   "cell_type": "markdown",
   "metadata": {},
   "source": [
    "First, for convenience, create the smallest possible table containing only station IDs and ADA information. As explained below, every stataion is either fully accessible or fully inaccessible according to the data so we can safely drop duplicates and know that each station ID will only appear once. But I check below anyway because I'm overly cautious.\n"
   ]
  },
  {
   "cell_type": "code",
   "execution_count": 1078,
   "metadata": {},
   "outputs": [
    {
     "data": {
      "text/html": [
       "<div>\n",
       "<style scoped>\n",
       "    .dataframe tbody tr th:only-of-type {\n",
       "        vertical-align: middle;\n",
       "    }\n",
       "\n",
       "    .dataframe tbody tr th {\n",
       "        vertical-align: top;\n",
       "    }\n",
       "\n",
       "    .dataframe thead th {\n",
       "        text-align: right;\n",
       "    }\n",
       "</style>\n",
       "<table border=\"1\" class=\"dataframe\">\n",
       "  <thead>\n",
       "    <tr style=\"text-align: right;\">\n",
       "      <th></th>\n",
       "      <th>MAP_ID</th>\n",
       "      <th>ADA</th>\n",
       "    </tr>\n",
       "  </thead>\n",
       "  <tbody>\n",
       "    <tr>\n",
       "      <th>0</th>\n",
       "      <td>40420</td>\n",
       "      <td>True</td>\n",
       "    </tr>\n",
       "    <tr>\n",
       "      <th>1</th>\n",
       "      <td>40780</td>\n",
       "      <td>True</td>\n",
       "    </tr>\n",
       "    <tr>\n",
       "      <th>2</th>\n",
       "      <td>40940</td>\n",
       "      <td>True</td>\n",
       "    </tr>\n",
       "    <tr>\n",
       "      <th>3</th>\n",
       "      <td>40230</td>\n",
       "      <td>True</td>\n",
       "    </tr>\n",
       "    <tr>\n",
       "      <th>4</th>\n",
       "      <td>40470</td>\n",
       "      <td>False</td>\n",
       "    </tr>\n",
       "    <tr>\n",
       "      <th>...</th>\n",
       "      <td>...</td>\n",
       "      <td>...</td>\n",
       "    </tr>\n",
       "    <tr>\n",
       "      <th>221</th>\n",
       "      <td>41440</td>\n",
       "      <td>True</td>\n",
       "    </tr>\n",
       "    <tr>\n",
       "      <th>253</th>\n",
       "      <td>40260</td>\n",
       "      <td>False</td>\n",
       "    </tr>\n",
       "    <tr>\n",
       "      <th>254</th>\n",
       "      <td>40480</td>\n",
       "      <td>True</td>\n",
       "    </tr>\n",
       "    <tr>\n",
       "      <th>255</th>\n",
       "      <td>41330</td>\n",
       "      <td>False</td>\n",
       "    </tr>\n",
       "    <tr>\n",
       "      <th>300</th>\n",
       "      <td>41710</td>\n",
       "      <td>True</td>\n",
       "    </tr>\n",
       "  </tbody>\n",
       "</table>\n",
       "<p>144 rows × 2 columns</p>\n",
       "</div>"
      ],
      "text/plain": [
       "     MAP_ID    ADA\n",
       "0     40420   True\n",
       "1     40780   True\n",
       "2     40940   True\n",
       "3     40230   True\n",
       "4     40470  False\n",
       "..      ...    ...\n",
       "221   41440   True\n",
       "253   40260  False\n",
       "254   40480   True\n",
       "255   41330  False\n",
       "300   41710   True\n",
       "\n",
       "[144 rows x 2 columns]"
      ]
     },
     "execution_count": 1078,
     "metadata": {},
     "output_type": "execute_result"
    }
   ],
   "source": [
    "access_df = stations_df[[\"MAP_ID\", \"ADA\"]].drop_duplicates()\n",
    "access_df"
   ]
  },
  {
   "cell_type": "code",
   "execution_count": 1079,
   "metadata": {},
   "outputs": [
    {
     "data": {
      "text/plain": [
       "min    1.0\n",
       "max    1.0\n",
       "Name: count, dtype: float64"
      ]
     },
     "execution_count": 1079,
     "metadata": {},
     "output_type": "execute_result"
    }
   ],
   "source": [
    "access_df.value_counts(\"MAP_ID\").describe()[[\"min\", \"max\"]]"
   ]
  },
  {
   "cell_type": "markdown",
   "metadata": {},
   "source": [
    "Now we can join the accessibility to the ridership data.\n"
   ]
  },
  {
   "cell_type": "code",
   "execution_count": 1080,
   "metadata": {},
   "outputs": [
    {
     "data": {
      "text/html": [
       "<div>\n",
       "<style scoped>\n",
       "    .dataframe tbody tr th:only-of-type {\n",
       "        vertical-align: middle;\n",
       "    }\n",
       "\n",
       "    .dataframe tbody tr th {\n",
       "        vertical-align: top;\n",
       "    }\n",
       "\n",
       "    .dataframe thead th {\n",
       "        text-align: right;\n",
       "    }\n",
       "</style>\n",
       "<table border=\"1\" class=\"dataframe\">\n",
       "  <thead>\n",
       "    <tr style=\"text-align: right;\">\n",
       "      <th></th>\n",
       "      <th>MAP_ID</th>\n",
       "      <th>ADA</th>\n",
       "    </tr>\n",
       "  </thead>\n",
       "  <tbody>\n",
       "    <tr>\n",
       "      <th>0</th>\n",
       "      <td>40420</td>\n",
       "      <td>True</td>\n",
       "    </tr>\n",
       "    <tr>\n",
       "      <th>1</th>\n",
       "      <td>40780</td>\n",
       "      <td>True</td>\n",
       "    </tr>\n",
       "    <tr>\n",
       "      <th>2</th>\n",
       "      <td>40940</td>\n",
       "      <td>True</td>\n",
       "    </tr>\n",
       "    <tr>\n",
       "      <th>3</th>\n",
       "      <td>40230</td>\n",
       "      <td>True</td>\n",
       "    </tr>\n",
       "    <tr>\n",
       "      <th>4</th>\n",
       "      <td>40470</td>\n",
       "      <td>False</td>\n",
       "    </tr>\n",
       "    <tr>\n",
       "      <th>...</th>\n",
       "      <td>...</td>\n",
       "      <td>...</td>\n",
       "    </tr>\n",
       "    <tr>\n",
       "      <th>221</th>\n",
       "      <td>41440</td>\n",
       "      <td>True</td>\n",
       "    </tr>\n",
       "    <tr>\n",
       "      <th>253</th>\n",
       "      <td>40260</td>\n",
       "      <td>False</td>\n",
       "    </tr>\n",
       "    <tr>\n",
       "      <th>254</th>\n",
       "      <td>40480</td>\n",
       "      <td>True</td>\n",
       "    </tr>\n",
       "    <tr>\n",
       "      <th>255</th>\n",
       "      <td>41330</td>\n",
       "      <td>False</td>\n",
       "    </tr>\n",
       "    <tr>\n",
       "      <th>300</th>\n",
       "      <td>41710</td>\n",
       "      <td>True</td>\n",
       "    </tr>\n",
       "  </tbody>\n",
       "</table>\n",
       "<p>144 rows × 2 columns</p>\n",
       "</div>"
      ],
      "text/plain": [
       "     MAP_ID    ADA\n",
       "0     40420   True\n",
       "1     40780   True\n",
       "2     40940   True\n",
       "3     40230   True\n",
       "4     40470  False\n",
       "..      ...    ...\n",
       "221   41440   True\n",
       "253   40260  False\n",
       "254   40480   True\n",
       "255   41330  False\n",
       "300   41710   True\n",
       "\n",
       "[144 rows x 2 columns]"
      ]
     },
     "execution_count": 1080,
     "metadata": {},
     "output_type": "execute_result"
    }
   ],
   "source": [
    "access_df = access_df\n",
    "access_df"
   ]
  },
  {
   "cell_type": "code",
   "execution_count": 1081,
   "metadata": {},
   "outputs": [
    {
     "data": {
      "text/html": [
       "<div>\n",
       "<style scoped>\n",
       "    .dataframe tbody tr th:only-of-type {\n",
       "        vertical-align: middle;\n",
       "    }\n",
       "\n",
       "    .dataframe tbody tr th {\n",
       "        vertical-align: top;\n",
       "    }\n",
       "\n",
       "    .dataframe thead th {\n",
       "        text-align: right;\n",
       "    }\n",
       "</style>\n",
       "<table border=\"1\" class=\"dataframe\">\n",
       "  <thead>\n",
       "    <tr style=\"text-align: right;\">\n",
       "      <th></th>\n",
       "      <th>station_id</th>\n",
       "      <th>stationame</th>\n",
       "      <th>monthtotal</th>\n",
       "      <th>MAP_ID</th>\n",
       "      <th>ADA</th>\n",
       "    </tr>\n",
       "  </thead>\n",
       "  <tbody>\n",
       "    <tr>\n",
       "      <th>0</th>\n",
       "      <td>40480</td>\n",
       "      <td>Cicero-Lake</td>\n",
       "      <td>21842</td>\n",
       "      <td>40480</td>\n",
       "      <td>True</td>\n",
       "    </tr>\n",
       "    <tr>\n",
       "      <th>1</th>\n",
       "      <td>40030</td>\n",
       "      <td>Pulaski-Lake</td>\n",
       "      <td>25981</td>\n",
       "      <td>40030</td>\n",
       "      <td>True</td>\n",
       "    </tr>\n",
       "    <tr>\n",
       "      <th>2</th>\n",
       "      <td>41670</td>\n",
       "      <td>Conservatory</td>\n",
       "      <td>17928</td>\n",
       "      <td>41670</td>\n",
       "      <td>True</td>\n",
       "    </tr>\n",
       "    <tr>\n",
       "      <th>3</th>\n",
       "      <td>41070</td>\n",
       "      <td>Kedzie-Lake</td>\n",
       "      <td>19456</td>\n",
       "      <td>41070</td>\n",
       "      <td>True</td>\n",
       "    </tr>\n",
       "    <tr>\n",
       "      <th>4</th>\n",
       "      <td>41360</td>\n",
       "      <td>California-Lake</td>\n",
       "      <td>19507</td>\n",
       "      <td>41360</td>\n",
       "      <td>True</td>\n",
       "    </tr>\n",
       "    <tr>\n",
       "      <th>...</th>\n",
       "      <td>...</td>\n",
       "      <td>...</td>\n",
       "      <td>...</td>\n",
       "      <td>...</td>\n",
       "      <td>...</td>\n",
       "    </tr>\n",
       "    <tr>\n",
       "      <th>138</th>\n",
       "      <td>41330</td>\n",
       "      <td>Montrose-O'Hare</td>\n",
       "      <td>41468</td>\n",
       "      <td>41330</td>\n",
       "      <td>False</td>\n",
       "    </tr>\n",
       "    <tr>\n",
       "      <th>139</th>\n",
       "      <td>40550</td>\n",
       "      <td>Irving Park-O'Hare</td>\n",
       "      <td>72592</td>\n",
       "      <td>40550</td>\n",
       "      <td>False</td>\n",
       "    </tr>\n",
       "    <tr>\n",
       "      <th>140</th>\n",
       "      <td>41240</td>\n",
       "      <td>Addison-O'Hare</td>\n",
       "      <td>49949</td>\n",
       "      <td>41240</td>\n",
       "      <td>True</td>\n",
       "    </tr>\n",
       "    <tr>\n",
       "      <th>141</th>\n",
       "      <td>40970</td>\n",
       "      <td>Cicero-Forest Park</td>\n",
       "      <td>16943</td>\n",
       "      <td>40970</td>\n",
       "      <td>False</td>\n",
       "    </tr>\n",
       "    <tr>\n",
       "      <th>142</th>\n",
       "      <td>40380</td>\n",
       "      <td>Clark/Lake</td>\n",
       "      <td>236507</td>\n",
       "      <td>40380</td>\n",
       "      <td>True</td>\n",
       "    </tr>\n",
       "  </tbody>\n",
       "</table>\n",
       "<p>143 rows × 5 columns</p>\n",
       "</div>"
      ],
      "text/plain": [
       "     station_id          stationame  monthtotal  MAP_ID    ADA\n",
       "0         40480         Cicero-Lake       21842   40480   True\n",
       "1         40030        Pulaski-Lake       25981   40030   True\n",
       "2         41670        Conservatory       17928   41670   True\n",
       "3         41070         Kedzie-Lake       19456   41070   True\n",
       "4         41360     California-Lake       19507   41360   True\n",
       "..          ...                 ...         ...     ...    ...\n",
       "138       41330     Montrose-O'Hare       41468   41330  False\n",
       "139       40550  Irving Park-O'Hare       72592   40550  False\n",
       "140       41240      Addison-O'Hare       49949   41240   True\n",
       "141       40970  Cicero-Forest Park       16943   40970  False\n",
       "142       40380          Clark/Lake      236507   40380   True\n",
       "\n",
       "[143 rows x 5 columns]"
      ]
     },
     "execution_count": 1081,
     "metadata": {},
     "output_type": "execute_result"
    }
   ],
   "source": [
    "accessible_ridership_df = latest_ridership_df.merge(\n",
    "    access_df, how=\"left\", left_on=\"station_id\", right_on=\"MAP_ID\")\n",
    "accessible_ridership_df"
   ]
  },
  {
   "cell_type": "markdown",
   "metadata": {},
   "source": [
    "Now check to make sure there aren't any NaNs after the join.\n"
   ]
  },
  {
   "cell_type": "code",
   "execution_count": 1082,
   "metadata": {},
   "outputs": [
    {
     "data": {
      "text/plain": [
       "station_id    0\n",
       "stationame    0\n",
       "monthtotal    0\n",
       "MAP_ID        0\n",
       "ADA           0\n",
       "dtype: int64"
      ]
     },
     "execution_count": 1082,
     "metadata": {},
     "output_type": "execute_result"
    }
   ],
   "source": [
    "accessible_ridership_df.isna().sum()"
   ]
  },
  {
   "cell_type": "markdown",
   "metadata": {},
   "source": [
    "## How many accessible stations are there?\n"
   ]
  },
  {
   "cell_type": "markdown",
   "metadata": {},
   "source": [
    "There are 101 accessible stations and 42 inaccessible stations with ridership data in the latest month of available data, May 2024. That means 70% of stations are accessible and 30% are not.\n"
   ]
  },
  {
   "cell_type": "code",
   "execution_count": 1083,
   "metadata": {},
   "outputs": [
    {
     "data": {
      "text/plain": [
       "ADA\n",
       "True     101\n",
       "False     42\n",
       "Name: count, dtype: int64"
      ]
     },
     "execution_count": 1083,
     "metadata": {},
     "output_type": "execute_result"
    }
   ],
   "source": [
    "accessible_ridership_df.value_counts(\"ADA\")"
   ]
  },
  {
   "cell_type": "markdown",
   "metadata": {},
   "source": [
    "## How many trips are there?\n"
   ]
  },
  {
   "cell_type": "markdown",
   "metadata": {},
   "source": [
    "There are 9,585,547 trips (turnstyle entries) reported in the month of May 2024.\n"
   ]
  },
  {
   "cell_type": "code",
   "execution_count": 1084,
   "metadata": {},
   "outputs": [
    {
     "data": {
      "text/plain": [
       "monthtotal    9585547\n",
       "dtype: int64"
      ]
     },
     "execution_count": 1084,
     "metadata": {},
     "output_type": "execute_result"
    }
   ],
   "source": [
    "accessible_ridership_df[[\"monthtotal\"]].sum()"
   ]
  },
  {
   "cell_type": "markdown",
   "metadata": {},
   "source": [
    "## What proportion of trips begin at accessible stations?\n"
   ]
  },
  {
   "cell_type": "markdown",
   "metadata": {},
   "source": [
    "First, let's try breaking down the monthly total by ADA designation and make sure the total matches the total trips above."
   ]
  },
  {
   "cell_type": "code",
   "execution_count": 1085,
   "metadata": {},
   "outputs": [
    {
     "data": {
      "text/html": [
       "<div>\n",
       "<style scoped>\n",
       "    .dataframe tbody tr th:only-of-type {\n",
       "        vertical-align: middle;\n",
       "    }\n",
       "\n",
       "    .dataframe tbody tr th {\n",
       "        vertical-align: top;\n",
       "    }\n",
       "\n",
       "    .dataframe thead th {\n",
       "        text-align: right;\n",
       "    }\n",
       "</style>\n",
       "<table border=\"1\" class=\"dataframe\">\n",
       "  <thead>\n",
       "    <tr style=\"text-align: right;\">\n",
       "      <th></th>\n",
       "      <th>monthtotal</th>\n",
       "    </tr>\n",
       "    <tr>\n",
       "      <th>ADA</th>\n",
       "      <th></th>\n",
       "    </tr>\n",
       "  </thead>\n",
       "  <tbody>\n",
       "    <tr>\n",
       "      <th>False</th>\n",
       "      <td>2324456</td>\n",
       "    </tr>\n",
       "    <tr>\n",
       "      <th>True</th>\n",
       "      <td>7261091</td>\n",
       "    </tr>\n",
       "  </tbody>\n",
       "</table>\n",
       "</div>"
      ],
      "text/plain": [
       "       monthtotal\n",
       "ADA              \n",
       "False     2324456\n",
       "True      7261091"
      ]
     },
     "execution_count": 1085,
     "metadata": {},
     "output_type": "execute_result"
    }
   ],
   "source": [
    "accessible_trips_bulk = accessible_ridership_df[[\n",
    "    \"monthtotal\", \"ADA\"]].groupby(\"ADA\").sum()\n",
    "accessible_trips_bulk"
   ]
  },
  {
   "cell_type": "code",
   "execution_count": 1086,
   "metadata": {},
   "outputs": [
    {
     "data": {
      "text/plain": [
       "monthtotal    9585547\n",
       "dtype: int64"
      ]
     },
     "execution_count": 1086,
     "metadata": {},
     "output_type": "execute_result"
    }
   ],
   "source": [
    "accessible_Trips_bulk_sum = accessible_trips_bulk.sum()\n",
    "accessible_Trips_bulk_sum"
   ]
  },
  {
   "cell_type": "code",
   "execution_count": 1087,
   "metadata": {},
   "outputs": [
    {
     "data": {
      "text/plain": [
       "monthtotal    True\n",
       "dtype: bool"
      ]
     },
     "execution_count": 1087,
     "metadata": {},
     "output_type": "execute_result"
    }
   ],
   "source": [
    "accessible_Trips_bulk_sum == accessible_ridership_df[[\"monthtotal\"]].sum()"
   ]
  },
  {
   "cell_type": "markdown",
   "metadata": {},
   "source": [
    "The total rides match after being divided among accessible and inaccessible trip starts.  So now let's convert those bulk totals into proportions."
   ]
  },
  {
   "cell_type": "code",
   "execution_count": 1088,
   "metadata": {},
   "outputs": [
    {
     "data": {
      "text/html": [
       "<div>\n",
       "<style scoped>\n",
       "    .dataframe tbody tr th:only-of-type {\n",
       "        vertical-align: middle;\n",
       "    }\n",
       "\n",
       "    .dataframe tbody tr th {\n",
       "        vertical-align: top;\n",
       "    }\n",
       "\n",
       "    .dataframe thead th {\n",
       "        text-align: right;\n",
       "    }\n",
       "</style>\n",
       "<table border=\"1\" class=\"dataframe\">\n",
       "  <thead>\n",
       "    <tr style=\"text-align: right;\">\n",
       "      <th></th>\n",
       "      <th>monthtotal</th>\n",
       "      <th>prop</th>\n",
       "    </tr>\n",
       "    <tr>\n",
       "      <th>ADA</th>\n",
       "      <th></th>\n",
       "      <th></th>\n",
       "    </tr>\n",
       "  </thead>\n",
       "  <tbody>\n",
       "    <tr>\n",
       "      <th>False</th>\n",
       "      <td>2324456</td>\n",
       "      <td>0.242496</td>\n",
       "    </tr>\n",
       "    <tr>\n",
       "      <th>True</th>\n",
       "      <td>7261091</td>\n",
       "      <td>0.757504</td>\n",
       "    </tr>\n",
       "  </tbody>\n",
       "</table>\n",
       "</div>"
      ],
      "text/plain": [
       "       monthtotal      prop\n",
       "ADA                        \n",
       "False     2324456  0.242496\n",
       "True      7261091  0.757504"
      ]
     },
     "execution_count": 1088,
     "metadata": {},
     "output_type": "execute_result"
    }
   ],
   "source": [
    "accessible_trips_proportion = accessible_trips_bulk\n",
    "accessible_trips_proportion[\"prop\"] = accessible_trips_proportion['monthtotal'] / \\\n",
    "    accessible_trips_proportion['monthtotal'].sum()\n",
    "accessible_trips_proportion"
   ]
  },
  {
   "cell_type": "markdown",
   "metadata": {},
   "source": [
    "Make sure that the proportions add to one."
   ]
  },
  {
   "cell_type": "code",
   "execution_count": 1089,
   "metadata": {},
   "outputs": [
    {
     "data": {
      "text/plain": [
       "np.float64(1.0)"
      ]
     },
     "execution_count": 1089,
     "metadata": {},
     "output_type": "execute_result"
    }
   ],
   "source": [
    "accessible_trips_proportion['prop'].sum()"
   ]
  },
  {
   "cell_type": "markdown",
   "metadata": {},
   "source": [
    "So, about 76% \"L\" trips in May 2024 started at accessible stations, and about 24% started at inaccessible stations."
   ]
  },
  {
   "cell_type": "markdown",
   "metadata": {},
   "source": [
    "Now we know where we are, and we need to compare that to where we could be."
   ]
  },
  {
   "cell_type": "markdown",
   "metadata": {},
   "source": [
    "## Datasets\n"
   ]
  },
  {
   "cell_type": "markdown",
   "metadata": {},
   "source": [
    "1.  [List of 'L' stops](https://data.cityofchicago.org/Transportation/CTA-System-Information-List-of-L-Stops/8pix-ypme/about_data)\n",
    "2.  [CTA - Ridership - 'L' Station Entries - Monthly Day-Type Averages & Totals](https://data.cityofchicago.org/Transportation/CTA-Ridership-L-Station-Entries-Monthly-Day-Type-A/t2rn-p8d7/about_data)\n"
   ]
  },
  {
   "cell_type": "markdown",
   "metadata": {},
   "source": [
    "### Findings up front\n"
   ]
  },
  {
   "cell_type": "markdown",
   "metadata": {},
   "source": [
    "1.  The columns that tie the datasets together are \"MAP_ID\" in the list of \"L\" stops and \"station_id\" in the ridership data.\n",
    "2.  There are no stations with both accessible and non-accesible stops.\n"
   ]
  },
  {
   "cell_type": "markdown",
   "metadata": {},
   "source": [
    "### List of 'L' stops\n"
   ]
  },
  {
   "cell_type": "markdown",
   "metadata": {},
   "source": [
    "Source: [List of 'L' stops](https://data.cityofchicago.org/Transportation/CTA-System-Information-List-of-L-Stops/8pix-ypme/about_data)\n"
   ]
  },
  {
   "cell_type": "markdown",
   "metadata": {},
   "source": [
    "#### Overview\n"
   ]
  },
  {
   "cell_type": "markdown",
   "metadata": {},
   "source": [
    "The dataset is about stops. Stops include details such as direction of travel. Each station therefore has at least two stops. For example, one for northbound trains and one for southbound trains. Station and stop IDs are not directly related. Instead, the \"MAP_ID\" column references the stop's parent station.\n",
    "\n",
    "ADA accessibility information is stored in a boolean column named \"ADA\". Because there is a row for each stop and multiple stops per station the structure of the data technically allows for stations that are partially accessible. If such mixed-accessibility stations actually existed in the data then choices would need to be made about how to handle ridership data from them. Thankfully they do not occur in the data.\n",
    "\n",
    "The various name columns, espeically \"STATION_NAME\" are not unique. There are multiple stations with the same name, even on the same line. The blue line has two stops named Western and two named Harlem, for example.\n",
    "\n",
    "There are are boolean columns indicating which lines a stop serves, and a location colum with physical location data. Since these fields are not needed to uniquely identify a station, we don't need them for our analysis.\n"
   ]
  },
  {
   "cell_type": "code",
   "execution_count": 1090,
   "metadata": {},
   "outputs": [
    {
     "data": {
      "text/html": [
       "<div>\n",
       "<style scoped>\n",
       "    .dataframe tbody tr th:only-of-type {\n",
       "        vertical-align: middle;\n",
       "    }\n",
       "\n",
       "    .dataframe tbody tr th {\n",
       "        vertical-align: top;\n",
       "    }\n",
       "\n",
       "    .dataframe thead th {\n",
       "        text-align: right;\n",
       "    }\n",
       "</style>\n",
       "<table border=\"1\" class=\"dataframe\">\n",
       "  <thead>\n",
       "    <tr style=\"text-align: right;\">\n",
       "      <th></th>\n",
       "      <th>STATION_NAME</th>\n",
       "      <th>STATION_DESCRIPTIVE_NAME</th>\n",
       "      <th>MAP_ID</th>\n",
       "      <th>ADA</th>\n",
       "    </tr>\n",
       "  </thead>\n",
       "  <tbody>\n",
       "    <tr>\n",
       "      <th>0</th>\n",
       "      <td>Cicero</td>\n",
       "      <td>Cicero (Pink Line)</td>\n",
       "      <td>40420</td>\n",
       "      <td>True</td>\n",
       "    </tr>\n",
       "    <tr>\n",
       "      <th>1</th>\n",
       "      <td>Central Park</td>\n",
       "      <td>Central Park (Pink Line)</td>\n",
       "      <td>40780</td>\n",
       "      <td>True</td>\n",
       "    </tr>\n",
       "    <tr>\n",
       "      <th>2</th>\n",
       "      <td>Halsted</td>\n",
       "      <td>Halsted (Green Line)</td>\n",
       "      <td>40940</td>\n",
       "      <td>True</td>\n",
       "    </tr>\n",
       "    <tr>\n",
       "      <th>3</th>\n",
       "      <td>Cumberland</td>\n",
       "      <td>Cumberland (Blue Line)</td>\n",
       "      <td>40230</td>\n",
       "      <td>True</td>\n",
       "    </tr>\n",
       "    <tr>\n",
       "      <th>4</th>\n",
       "      <td>Racine</td>\n",
       "      <td>Racine (Blue Line)</td>\n",
       "      <td>40470</td>\n",
       "      <td>False</td>\n",
       "    </tr>\n",
       "  </tbody>\n",
       "</table>\n",
       "</div>"
      ],
      "text/plain": [
       "   STATION_NAME  STATION_DESCRIPTIVE_NAME  MAP_ID    ADA\n",
       "0        Cicero        Cicero (Pink Line)   40420   True\n",
       "1  Central Park  Central Park (Pink Line)   40780   True\n",
       "2       Halsted      Halsted (Green Line)   40940   True\n",
       "3    Cumberland    Cumberland (Blue Line)   40230   True\n",
       "4        Racine        Racine (Blue Line)   40470  False"
      ]
     },
     "execution_count": 1090,
     "metadata": {},
     "output_type": "execute_result"
    }
   ],
   "source": [
    "stations_df.head()"
   ]
  },
  {
   "cell_type": "markdown",
   "metadata": {},
   "source": [
    "### Ridership data\n"
   ]
  },
  {
   "cell_type": "markdown",
   "metadata": {},
   "source": [
    "Source: [CTA - Ridership - 'L' Station Entries - Monthly Day-Type Averages & Totals](https://data.cityofchicago.org/Transportation/CTA-Ridership-L-Station-Entries-Monthly-Day-Type-A/t2rn-p8d7/about_data)\n"
   ]
  },
  {
   "cell_type": "markdown",
   "metadata": {},
   "source": [
    "#### Overview\n"
   ]
  },
  {
   "cell_type": "markdown",
   "metadata": {},
   "source": [
    "This dataset is about stations. Specifically, it tracks turnstyle numbers. These numbers tell us nothing about which direction a passenger intends to travel and therefore nothing abou the stop that they intend to use. This means that there is a mismatch in the level of detail between the dataset describing how many people ride and the dataset describing where they can go.\n",
    "\n",
    "The \"station_id\" column is the shared key between the datasets. As in the list of stops, the \"stationame\" column is not unique.\n"
   ]
  },
  {
   "cell_type": "code",
   "execution_count": 1091,
   "metadata": {},
   "outputs": [
    {
     "data": {
      "text/html": [
       "<div>\n",
       "<style scoped>\n",
       "    .dataframe tbody tr th:only-of-type {\n",
       "        vertical-align: middle;\n",
       "    }\n",
       "\n",
       "    .dataframe tbody tr th {\n",
       "        vertical-align: top;\n",
       "    }\n",
       "\n",
       "    .dataframe thead th {\n",
       "        text-align: right;\n",
       "    }\n",
       "</style>\n",
       "<table border=\"1\" class=\"dataframe\">\n",
       "  <thead>\n",
       "    <tr style=\"text-align: right;\">\n",
       "      <th></th>\n",
       "      <th>station_id</th>\n",
       "      <th>stationame</th>\n",
       "      <th>month_beginning</th>\n",
       "      <th>monthtotal</th>\n",
       "    </tr>\n",
       "  </thead>\n",
       "  <tbody>\n",
       "    <tr>\n",
       "      <th>0</th>\n",
       "      <td>40900</td>\n",
       "      <td>Howard</td>\n",
       "      <td>2001-01-01</td>\n",
       "      <td>164447</td>\n",
       "    </tr>\n",
       "    <tr>\n",
       "      <th>1</th>\n",
       "      <td>41190</td>\n",
       "      <td>Jarvis</td>\n",
       "      <td>2001-01-01</td>\n",
       "      <td>40567</td>\n",
       "    </tr>\n",
       "    <tr>\n",
       "      <th>2</th>\n",
       "      <td>40100</td>\n",
       "      <td>Morse</td>\n",
       "      <td>2001-01-01</td>\n",
       "      <td>119772</td>\n",
       "    </tr>\n",
       "    <tr>\n",
       "      <th>3</th>\n",
       "      <td>41300</td>\n",
       "      <td>Loyola</td>\n",
       "      <td>2001-01-01</td>\n",
       "      <td>125008</td>\n",
       "    </tr>\n",
       "    <tr>\n",
       "      <th>4</th>\n",
       "      <td>40760</td>\n",
       "      <td>Granville</td>\n",
       "      <td>2001-01-01</td>\n",
       "      <td>84189</td>\n",
       "    </tr>\n",
       "  </tbody>\n",
       "</table>\n",
       "</div>"
      ],
      "text/plain": [
       "   station_id stationame month_beginning  monthtotal\n",
       "0       40900     Howard      2001-01-01      164447\n",
       "1       41190     Jarvis      2001-01-01       40567\n",
       "2       40100      Morse      2001-01-01      119772\n",
       "3       41300     Loyola      2001-01-01      125008\n",
       "4       40760  Granville      2001-01-01       84189"
      ]
     },
     "execution_count": 1091,
     "metadata": {},
     "output_type": "execute_result"
    }
   ],
   "source": [
    "ridership_df.head()"
   ]
  },
  {
   "cell_type": "markdown",
   "metadata": {},
   "source": [
    "### Demonstrating the shared key between datasets\n"
   ]
  },
  {
   "cell_type": "markdown",
   "metadata": {},
   "source": [
    "The datasets are not described in great detail, so some of the relationships must be demonstrated through examination. There's no obvious reason why a column named \"MAP_ID\" would identify a station, for example. Let us check some examples.\n"
   ]
  },
  {
   "cell_type": "markdown",
   "metadata": {},
   "source": [
    "First we need to find some station identifiers. I know that there are some stops that contain the word \"Lake\" so let's get those.\n"
   ]
  },
  {
   "cell_type": "code",
   "execution_count": 1092,
   "metadata": {},
   "outputs": [
    {
     "data": {
      "text/html": [
       "<div>\n",
       "<style scoped>\n",
       "    .dataframe tbody tr th:only-of-type {\n",
       "        vertical-align: middle;\n",
       "    }\n",
       "\n",
       "    .dataframe tbody tr th {\n",
       "        vertical-align: top;\n",
       "    }\n",
       "\n",
       "    .dataframe thead th {\n",
       "        text-align: right;\n",
       "    }\n",
       "</style>\n",
       "<table border=\"1\" class=\"dataframe\">\n",
       "  <thead>\n",
       "    <tr style=\"text-align: right;\">\n",
       "      <th></th>\n",
       "      <th>STATION_NAME</th>\n",
       "      <th>STATION_DESCRIPTIVE_NAME</th>\n",
       "      <th>MAP_ID</th>\n",
       "      <th>ADA</th>\n",
       "    </tr>\n",
       "  </thead>\n",
       "  <tbody>\n",
       "    <tr>\n",
       "      <th>7</th>\n",
       "      <td>Clark/Lake</td>\n",
       "      <td>Clark/Lake (Blue, Brown, Green, Orange, Purple...</td>\n",
       "      <td>40380</td>\n",
       "      <td>True</td>\n",
       "    </tr>\n",
       "    <tr>\n",
       "      <th>36</th>\n",
       "      <td>Lake</td>\n",
       "      <td>Lake (Red Line)</td>\n",
       "      <td>41660</td>\n",
       "      <td>True</td>\n",
       "    </tr>\n",
       "    <tr>\n",
       "      <th>56</th>\n",
       "      <td>Harlem/Lake</td>\n",
       "      <td>Harlem/Lake (Green Line)</td>\n",
       "      <td>40020</td>\n",
       "      <td>True</td>\n",
       "    </tr>\n",
       "    <tr>\n",
       "      <th>62</th>\n",
       "      <td>Clark/Lake</td>\n",
       "      <td>Clark/Lake (Blue, Brown, Green, Orange, Purple...</td>\n",
       "      <td>40380</td>\n",
       "      <td>True</td>\n",
       "    </tr>\n",
       "    <tr>\n",
       "      <th>103</th>\n",
       "      <td>Lake</td>\n",
       "      <td>Lake (Red Line)</td>\n",
       "      <td>41660</td>\n",
       "      <td>True</td>\n",
       "    </tr>\n",
       "    <tr>\n",
       "      <th>180</th>\n",
       "      <td>Clark/Lake</td>\n",
       "      <td>Clark/Lake (Blue, Brown, Green, Orange, Purple...</td>\n",
       "      <td>40380</td>\n",
       "      <td>True</td>\n",
       "    </tr>\n",
       "    <tr>\n",
       "      <th>253</th>\n",
       "      <td>State/Lake</td>\n",
       "      <td>State/Lake (Brown, Green, Orange, Pink &amp; Purpl...</td>\n",
       "      <td>40260</td>\n",
       "      <td>False</td>\n",
       "    </tr>\n",
       "    <tr>\n",
       "      <th>261</th>\n",
       "      <td>Harlem/Lake</td>\n",
       "      <td>Harlem/Lake (Green Line)</td>\n",
       "      <td>40020</td>\n",
       "      <td>True</td>\n",
       "    </tr>\n",
       "    <tr>\n",
       "      <th>267</th>\n",
       "      <td>State/Lake</td>\n",
       "      <td>State/Lake (Brown, Green, Orange, Pink &amp; Purpl...</td>\n",
       "      <td>40260</td>\n",
       "      <td>False</td>\n",
       "    </tr>\n",
       "    <tr>\n",
       "      <th>290</th>\n",
       "      <td>Clark/Lake</td>\n",
       "      <td>Clark/Lake (Blue, Brown, Green, Orange, Purple...</td>\n",
       "      <td>40380</td>\n",
       "      <td>True</td>\n",
       "    </tr>\n",
       "  </tbody>\n",
       "</table>\n",
       "</div>"
      ],
      "text/plain": [
       "    STATION_NAME                           STATION_DESCRIPTIVE_NAME  MAP_ID  \\\n",
       "7     Clark/Lake  Clark/Lake (Blue, Brown, Green, Orange, Purple...   40380   \n",
       "36          Lake                                    Lake (Red Line)   41660   \n",
       "56   Harlem/Lake                           Harlem/Lake (Green Line)   40020   \n",
       "62    Clark/Lake  Clark/Lake (Blue, Brown, Green, Orange, Purple...   40380   \n",
       "103         Lake                                    Lake (Red Line)   41660   \n",
       "180   Clark/Lake  Clark/Lake (Blue, Brown, Green, Orange, Purple...   40380   \n",
       "253   State/Lake  State/Lake (Brown, Green, Orange, Pink & Purpl...   40260   \n",
       "261  Harlem/Lake                           Harlem/Lake (Green Line)   40020   \n",
       "267   State/Lake  State/Lake (Brown, Green, Orange, Pink & Purpl...   40260   \n",
       "290   Clark/Lake  Clark/Lake (Blue, Brown, Green, Orange, Purple...   40380   \n",
       "\n",
       "       ADA  \n",
       "7     True  \n",
       "36    True  \n",
       "56    True  \n",
       "62    True  \n",
       "103   True  \n",
       "180   True  \n",
       "253  False  \n",
       "261   True  \n",
       "267  False  \n",
       "290   True  "
      ]
     },
     "execution_count": 1092,
     "metadata": {},
     "output_type": "execute_result"
    }
   ],
   "source": [
    "stations_df[stations_df[\"STATION_DESCRIPTIVE_NAME\"].str.contains(\"Lake\")]"
   ]
  },
  {
   "cell_type": "markdown",
   "metadata": {},
   "source": [
    "Let's try searching the ridership data for a few of the station identifiers we just found and see if they match.\n"
   ]
  },
  {
   "cell_type": "code",
   "execution_count": 1093,
   "metadata": {},
   "outputs": [
    {
     "data": {
      "text/plain": [
       "stationame\n",
       "Clark/Lake    281\n",
       "Name: count, dtype: int64"
      ]
     },
     "execution_count": 1093,
     "metadata": {},
     "output_type": "execute_result"
    }
   ],
   "source": [
    "ridership_df[ridership_df[\"station_id\"] == 40380].value_counts(\"stationame\")"
   ]
  },
  {
   "cell_type": "code",
   "execution_count": 1094,
   "metadata": {},
   "outputs": [
    {
     "data": {
      "text/plain": [
       "stationame\n",
       "Lake/State    281\n",
       "Name: count, dtype: int64"
      ]
     },
     "execution_count": 1094,
     "metadata": {},
     "output_type": "execute_result"
    }
   ],
   "source": [
    "ridership_df[ridership_df[\"station_id\"] == 41660].value_counts(\"stationame\")"
   ]
  },
  {
   "cell_type": "code",
   "execution_count": 1095,
   "metadata": {},
   "outputs": [
    {
     "data": {
      "text/plain": [
       "stationame\n",
       "Harlem-Lake    281\n",
       "Name: count, dtype: int64"
      ]
     },
     "execution_count": 1095,
     "metadata": {},
     "output_type": "execute_result"
    }
   ],
   "source": [
    "ridership_df[ridership_df[\"station_id\"] == 40020].value_counts(\"stationame\")"
   ]
  },
  {
   "cell_type": "markdown",
   "metadata": {},
   "source": [
    "As we can see from the examples above the short names for the stations match - to a human - when linked by the ID columns that we found.\n"
   ]
  },
  {
   "cell_type": "markdown",
   "metadata": {},
   "source": [
    "The datasets are clearly not carefully groomed since even the same dataset uses slashes to separate intersection names sometimes (Lake/State) and uses dashes (Harlem-Lake) at other times. But we already knew this becuase \"MAP_ID\" and \"station_id\" are not in the same format. That's just the nature of real-world datasets.\n"
   ]
  },
  {
   "cell_type": "markdown",
   "metadata": {},
   "source": [
    "### Finding orphans\n"
   ]
  },
  {
   "cell_type": "markdown",
   "metadata": {},
   "source": [
    "Ideally the mapping between stations and ridership data would be complete. Every station would have ridership numbers and all the ridership info would be linked to a station we knew about. Unfortunately that is not the case. The code below finds any station identifiers that only occur in one dataset or the other. There are five of them. They are explained below.\n"
   ]
  },
  {
   "cell_type": "markdown",
   "metadata": {},
   "source": [
    "The ridership data with no associated station information is for stations that have been closed. The station with no ridership information is too new to appear in the data. A major source of this information was the following link: https://www.chicago-l.org/stations/index.html\n"
   ]
  },
  {
   "cell_type": "markdown",
   "metadata": {},
   "source": [
    "1.  Madison/Wabash was closed in 2015\n",
    "2.  Washington/State has been temporarily closed since 2006\n",
    "3.  Randolph/Wabash was closed in 2017.\n",
    "4.  Homan has been closed since 1994, permanently removed from the line in 1996\n",
    "5.  The Damen green line station opened in August 20224 so ridership data is not yet available in September 2024.\n"
   ]
  },
  {
   "cell_type": "markdown",
   "metadata": {},
   "source": [
    "Stations with no ridership data:\n",
    "\n",
    "1.  41710: Damen (Green Line)\n"
   ]
  },
  {
   "cell_type": "markdown",
   "metadata": {},
   "source": [
    "Ridership data with no station information:\n",
    "\n",
    "1.  40500: Washington/State\n",
    "2.  40640: Madison/Wabash\n",
    "3.  40200: Randolph/Wabash\n",
    "4.  41580: Homan\n"
   ]
  },
  {
   "cell_type": "code",
   "execution_count": 1096,
   "metadata": {},
   "outputs": [],
   "source": [
    "def find_orphan_station_ids(stations=stations_df, ridership=ridership_df):\n",
    "    map_id_set = set(stations[\"MAP_ID\"])\n",
    "    station_id_set = set(ridership[\"station_id\"])\n",
    "    print(f\"There are {len(map_id_set)} unique entries in the MAP_ID column\")\n",
    "    print(f\"There are {len(station_id_set)\n",
    "                       } unique entries in the station_id column\")\n",
    "    print(f\"There are {len((sd := map_id_set.symmetric_difference(\n",
    "        station_id_set)))} entries that only appear in one column or the other\")\n",
    "    print(f\"They are: {sd}\")\n",
    "    return sd"
   ]
  },
  {
   "cell_type": "code",
   "execution_count": 1097,
   "metadata": {},
   "outputs": [
    {
     "name": "stdout",
     "output_type": "stream",
     "text": [
      "There are 144 unique entries in the MAP_ID column\n",
      "There are 147 unique entries in the station_id column\n",
      "There are 5 entries that only appear in one column or the other\n",
      "They are: {40500, 41580, 40640, 41710, 40200}\n"
     ]
    }
   ],
   "source": [
    "orphans = find_orphan_station_ids()"
   ]
  },
  {
   "cell_type": "code",
   "execution_count": 1098,
   "metadata": {},
   "outputs": [
    {
     "name": "stdout",
     "output_type": "stream",
     "text": [
      "    STATION_NAME STATION_DESCRIPTIVE_NAME  MAP_ID   ADA\n",
      "300        Damen       Damen (Green Line)   41710  True\n",
      "301        Damen       Damen (Green Line)   41710  True\n"
     ]
    }
   ],
   "source": [
    "orphans_in_stop_list = stations_df[stations_df['MAP_ID'].isin(orphans)]\n",
    "print(orphans_in_stop_list)"
   ]
  },
  {
   "cell_type": "code",
   "execution_count": 1099,
   "metadata": {},
   "outputs": [
    {
     "name": "stdout",
     "output_type": "stream",
     "text": [
      "     station_id        stationame\n",
      "20        40500  Washington/State\n",
      "138       40640    Madison/Wabash\n",
      "139       40200   Randolph/Wabash\n",
      "945       41580             Homan\n"
     ]
    }
   ],
   "source": [
    "oprhans_in_ridership_data = ridership_df[ridership_df[\"station_id\"].isin(\n",
    "    orphans)][[\"station_id\", \"stationame\"]].drop_duplicates()\n",
    "print(oprhans_in_ridership_data)"
   ]
  },
  {
   "cell_type": "markdown",
   "metadata": {},
   "source": [
    "### Looking for mixed stations\n"
   ]
  },
  {
   "cell_type": "markdown",
   "metadata": {},
   "source": [
    "As I wrote in the descriptions of the datasets, ADA accessibility is tracked by stop. Each station has multiple stops, which means that the format of the data allows for stations that are only partially accessible. Since the ridership data only tracks entry into stations, partially accessible staitons would lead to ambiguity. We woudln't know how many of the passengers used the accessible stops. I also said that no such stations exist. Let me demonstrate that.\n"
   ]
  },
  {
   "cell_type": "markdown",
   "metadata": {},
   "source": [
    "First, let us obtian the count of accessible and inaccessible stops at each station.\n"
   ]
  },
  {
   "cell_type": "code",
   "execution_count": 1100,
   "metadata": {},
   "outputs": [
    {
     "data": {
      "text/html": [
       "<div>\n",
       "<style scoped>\n",
       "    .dataframe tbody tr th:only-of-type {\n",
       "        vertical-align: middle;\n",
       "    }\n",
       "\n",
       "    .dataframe tbody tr th {\n",
       "        vertical-align: top;\n",
       "    }\n",
       "\n",
       "    .dataframe thead th {\n",
       "        text-align: right;\n",
       "    }\n",
       "</style>\n",
       "<table border=\"1\" class=\"dataframe\">\n",
       "  <thead>\n",
       "    <tr style=\"text-align: right;\">\n",
       "      <th></th>\n",
       "      <th>ADA</th>\n",
       "      <th>False</th>\n",
       "      <th>True</th>\n",
       "    </tr>\n",
       "    <tr>\n",
       "      <th>MAP_ID</th>\n",
       "      <th>STATION_DESCRIPTIVE_NAME</th>\n",
       "      <th></th>\n",
       "      <th></th>\n",
       "    </tr>\n",
       "  </thead>\n",
       "  <tbody>\n",
       "    <tr>\n",
       "      <th>40010</th>\n",
       "      <th>Austin (Blue Line)</th>\n",
       "      <td>2.0</td>\n",
       "      <td>NaN</td>\n",
       "    </tr>\n",
       "    <tr>\n",
       "      <th>40020</th>\n",
       "      <th>Harlem/Lake (Green Line)</th>\n",
       "      <td>NaN</td>\n",
       "      <td>2.0</td>\n",
       "    </tr>\n",
       "    <tr>\n",
       "      <th>40030</th>\n",
       "      <th>Pulaski (Green Line)</th>\n",
       "      <td>NaN</td>\n",
       "      <td>2.0</td>\n",
       "    </tr>\n",
       "    <tr>\n",
       "      <th>40040</th>\n",
       "      <th>Quincy/Wells (Brown, Orange, Purple &amp; Pink lines)</th>\n",
       "      <td>NaN</td>\n",
       "      <td>2.0</td>\n",
       "    </tr>\n",
       "    <tr>\n",
       "      <th>40050</th>\n",
       "      <th>Davis (Purple Line)</th>\n",
       "      <td>NaN</td>\n",
       "      <td>2.0</td>\n",
       "    </tr>\n",
       "    <tr>\n",
       "      <th>...</th>\n",
       "      <th>...</th>\n",
       "      <td>...</td>\n",
       "      <td>...</td>\n",
       "    </tr>\n",
       "    <tr>\n",
       "      <th>41670</th>\n",
       "      <th>Conservatory (Green Line)</th>\n",
       "      <td>NaN</td>\n",
       "      <td>2.0</td>\n",
       "    </tr>\n",
       "    <tr>\n",
       "      <th>41680</th>\n",
       "      <th>Oakton-Skokie (Yellow Line)</th>\n",
       "      <td>NaN</td>\n",
       "      <td>2.0</td>\n",
       "    </tr>\n",
       "    <tr>\n",
       "      <th>41690</th>\n",
       "      <th>Cermak-McCormick Place (Green Line)</th>\n",
       "      <td>NaN</td>\n",
       "      <td>2.0</td>\n",
       "    </tr>\n",
       "    <tr>\n",
       "      <th>41700</th>\n",
       "      <th>Washington/Wabash (Brown, Green, Orange, Purple &amp; Pink lines)</th>\n",
       "      <td>NaN</td>\n",
       "      <td>2.0</td>\n",
       "    </tr>\n",
       "    <tr>\n",
       "      <th>41710</th>\n",
       "      <th>Damen (Green Line)</th>\n",
       "      <td>NaN</td>\n",
       "      <td>2.0</td>\n",
       "    </tr>\n",
       "  </tbody>\n",
       "</table>\n",
       "<p>145 rows × 2 columns</p>\n",
       "</div>"
      ],
      "text/plain": [
       "ADA                                                        False  True \n",
       "MAP_ID STATION_DESCRIPTIVE_NAME                                        \n",
       "40010  Austin (Blue Line)                                    2.0    NaN\n",
       "40020  Harlem/Lake (Green Line)                              NaN    2.0\n",
       "40030  Pulaski (Green Line)                                  NaN    2.0\n",
       "40040  Quincy/Wells (Brown, Orange, Purple & Pink lines)     NaN    2.0\n",
       "40050  Davis (Purple Line)                                   NaN    2.0\n",
       "...                                                          ...    ...\n",
       "41670  Conservatory (Green Line)                             NaN    2.0\n",
       "41680  Oakton-Skokie (Yellow Line)                           NaN    2.0\n",
       "41690  Cermak-McCormick Place (Green Line)                   NaN    2.0\n",
       "41700  Washington/Wabash (Brown, Green, Orange, Purple...    NaN    2.0\n",
       "41710  Damen (Green Line)                                    NaN    2.0\n",
       "\n",
       "[145 rows x 2 columns]"
      ]
     },
     "execution_count": 1100,
     "metadata": {},
     "output_type": "execute_result"
    }
   ],
   "source": [
    "trimmed_station_data = stations_df[[\n",
    "    \"MAP_ID\", \"STATION_DESCRIPTIVE_NAME\", \"ADA\"]]\n",
    "station_vcs = trimmed_station_data.value_counts()\n",
    "station_accessability_counts = station_vcs.unstack()\n",
    "station_accessability_counts"
   ]
  },
  {
   "cell_type": "markdown",
   "metadata": {},
   "source": [
    "The table above counts the number of times True and False occur in the ADA column for each station. If a station never appears with a particular value in the ADA column, the table shows NaN. Usually I'd replace those NaNs with zeroes, but in this case NaNs are very convenient. Any partially accessible stations, and only partially accessible stations, would have stops where ADA column was false and stops where ADA column was true. Dropping rows with NaNs will eliminate stations that are fully accessible or fully inaccessible, leaving only the stations wer're looking for.\n"
   ]
  },
  {
   "cell_type": "code",
   "execution_count": 1101,
   "metadata": {},
   "outputs": [
    {
     "data": {
      "text/html": [
       "<div>\n",
       "<style scoped>\n",
       "    .dataframe tbody tr th:only-of-type {\n",
       "        vertical-align: middle;\n",
       "    }\n",
       "\n",
       "    .dataframe tbody tr th {\n",
       "        vertical-align: top;\n",
       "    }\n",
       "\n",
       "    .dataframe thead th {\n",
       "        text-align: right;\n",
       "    }\n",
       "</style>\n",
       "<table border=\"1\" class=\"dataframe\">\n",
       "  <thead>\n",
       "    <tr style=\"text-align: right;\">\n",
       "      <th></th>\n",
       "      <th>ADA</th>\n",
       "      <th>False</th>\n",
       "      <th>True</th>\n",
       "    </tr>\n",
       "    <tr>\n",
       "      <th>MAP_ID</th>\n",
       "      <th>STATION_DESCRIPTIVE_NAME</th>\n",
       "      <th></th>\n",
       "      <th></th>\n",
       "    </tr>\n",
       "  </thead>\n",
       "  <tbody>\n",
       "  </tbody>\n",
       "</table>\n",
       "</div>"
      ],
      "text/plain": [
       "Empty DataFrame\n",
       "Columns: [False, True]\n",
       "Index: []"
      ]
     },
     "execution_count": 1101,
     "metadata": {},
     "output_type": "execute_result"
    }
   ],
   "source": [
    "station_accessability_counts.dropna()"
   ]
  },
  {
   "cell_type": "markdown",
   "metadata": {},
   "source": [
    "There are no stations in the data with both accessible and inaccessible stops.\n"
   ]
  }
 ],
 "metadata": {
  "kernelspec": {
   "display_name": ".venv",
   "language": "python",
   "name": "python3"
  },
  "language_info": {
   "codemirror_mode": {
    "name": "ipython",
    "version": 3
   },
   "file_extension": ".py",
   "mimetype": "text/x-python",
   "name": "python",
   "nbconvert_exporter": "python",
   "pygments_lexer": "ipython3",
   "version": "3.12.6"
  }
 },
 "nbformat": 4,
 "nbformat_minor": 2
}
