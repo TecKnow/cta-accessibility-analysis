{
 "cells": [
  {
   "cell_type": "markdown",
   "metadata": {},
   "source": [
    "# CTA \"L\" accessibility analysis"
   ]
  },
  {
   "cell_type": "markdown",
   "metadata": {},
   "source": [
    "## What is this?"
   ]
  },
  {
   "cell_type": "markdown",
   "metadata": {},
   "source": [
    "## Why are you doing this?"
   ]
  },
  {
   "cell_type": "markdown",
   "metadata": {},
   "source": [
    "## Data sources"
   ]
  },
  {
   "cell_type": "markdown",
   "metadata": {},
   "source": [
    "1.  [List of 'L' stops](https://data.cityofchicago.org/Transportation/CTA-System-Information-List-of-L-Stops/8pix-ypme/about_data)\n",
    "2.  [CTA - Ridership - 'L' Station Entries - Monthly Day-Type Averages & Totals](https://data.cityofchicago.org/Transportation/CTA-Ridership-L-Station-Entries-Monthly-Day-Type-A/t2rn-p8d7/about_data)"
   ]
  },
  {
   "cell_type": "code",
   "execution_count": 164,
   "metadata": {},
   "outputs": [],
   "source": [
    "import math\n",
    "import itertools\n",
    "from pathlib import Path\n",
    "import numpy as np\n",
    "import pandas as pd\n",
    "from matplotlib import pyplot"
   ]
  },
  {
   "cell_type": "code",
   "execution_count": 165,
   "metadata": {},
   "outputs": [],
   "source": [
    "RIDERSHIP_DATA_PATH = Path(\n",
    "    \"data/CTA_-_Ridership_-__L__Station_Entries_-_Monthly_Day-Type_Averages___Totals_20240921.csv\")\n",
    "STATION_DATA_PATH = Path(\n",
    "    \"data/CTA_-_System_Information_-_List_of__L__Stops_20240921.csv\")"
   ]
  },
  {
   "cell_type": "code",
   "execution_count": 166,
   "metadata": {},
   "outputs": [],
   "source": [
    "station_df = pd.read_csv(STATION_DATA_PATH,\n",
    "                         dtype={\"DIRECTION_ID\": \"category\",\n",
    "                                \"STOP_NAME\": pd.StringDtype(),\n",
    "                                \"STATION_NAME\": pd.StringDtype(),\n",
    "                                \"STATION_DESCRIPTIVE_NAME\": pd.StringDtype(), },\n",
    "                         index_col=[\"STOP_ID\"],\n",
    "                         usecols=[\"STOP_ID\", \"DIRECTION_ID\", \"STOP_NAME\", \"STATION_NAME\", \"STATION_DESCRIPTIVE_NAME\", \"ADA\"])"
   ]
  },
  {
   "cell_type": "code",
   "execution_count": 167,
   "metadata": {},
   "outputs": [],
   "source": [
    "station_accessibility_counts = station_df[\"ADA\"].value_counts()\n",
    "accessible_station_count = station_accessibility_counts[True]\n",
    "total_station_count = station_accessibility_counts.sum()"
   ]
  },
  {
   "cell_type": "code",
   "execution_count": 168,
   "metadata": {},
   "outputs": [
    {
     "name": "stdout",
     "output_type": "stream",
     "text": [
      "The total number of stations is: 302\n",
      "The number of accessible stations is: 216\n",
      "0.7152317880794702% of stations are accessible\n",
      "There are 114,601,054,591,141,435,620,127,202,648,439,182,877,772,977,376,164,635,700,450,222,381,425,752,614,600 combinations that would produce the same percentage\n"
     ]
    }
   ],
   "source": [
    "print(f\"The total number of stations is: {total_station_count}\")\n",
    "print(f\"The number of accessible stations is: {accessible_station_count}\")\n",
    "print(f\"{accessible_station_count/total_station_count}% of stations are accessible\")\n",
    "print(f\"There are {math.comb(total_station_count, accessible_station_count):,} combinations that would produce the same percentage\")"
   ]
  }
 ],
 "metadata": {
  "kernelspec": {
   "display_name": ".venv",
   "language": "python",
   "name": "python3"
  },
  "language_info": {
   "codemirror_mode": {
    "name": "ipython",
    "version": 3
   },
   "file_extension": ".py",
   "mimetype": "text/x-python",
   "name": "python",
   "nbconvert_exporter": "python",
   "pygments_lexer": "ipython3",
   "version": "3.12.6"
  }
 },
 "nbformat": 4,
 "nbformat_minor": 2
}
