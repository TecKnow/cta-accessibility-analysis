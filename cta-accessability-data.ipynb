{
 "cells": [
  {
   "cell_type": "markdown",
   "metadata": {},
   "source": [
    "# CTA \"L\" accessibility analysis\n"
   ]
  },
  {
   "cell_type": "markdown",
   "metadata": {},
   "source": [
    "## Datasets\n"
   ]
  },
  {
   "cell_type": "markdown",
   "metadata": {},
   "source": [
    "1.  [List of 'L' stops](https://data.cityofchicago.org/Transportation/CTA-System-Information-List-of-L-Stops/8pix-ypme/about_data)\n",
    "2.  [CTA - Ridership - 'L' Station Entries - Monthly Day-Type Averages & Totals](https://data.cityofchicago.org/Transportation/CTA-Ridership-L-Station-Entries-Monthly-Day-Type-A/t2rn-p8d7/about_data)\n"
   ]
  },
  {
   "cell_type": "markdown",
   "metadata": {},
   "source": [
    "### Findings up front"
   ]
  },
  {
   "cell_type": "markdown",
   "metadata": {},
   "source": [
    "1.  The columns that tie the datasets together are \"MAP_ID\" in the list of \"L\" stops and \"station_id\" in the ridership data.\n",
    "2.  There are no stations with both accessible and non-accesible stops."
   ]
  },
  {
   "cell_type": "code",
   "execution_count": 531,
   "metadata": {},
   "outputs": [],
   "source": [
    "import math\n",
    "import itertools\n",
    "from pathlib import Path\n",
    "import numpy as np\n",
    "import pandas as pd\n",
    "from matplotlib import pyplot"
   ]
  },
  {
   "cell_type": "markdown",
   "metadata": {},
   "source": [
    "### List of 'L' stops\n"
   ]
  },
  {
   "cell_type": "markdown",
   "metadata": {},
   "source": [
    "Source: [List of 'L' stops](https://data.cityofchicago.org/Transportation/CTA-System-Information-List-of-L-Stops/8pix-ypme/about_data)\n"
   ]
  },
  {
   "cell_type": "markdown",
   "metadata": {},
   "source": [
    "#### Overview"
   ]
  },
  {
   "cell_type": "markdown",
   "metadata": {},
   "source": [
    "The dataset is about stops.  Stops include details such as direction of travel.  Each station therefore has at least two stops.  For example, one for northbound trains and one for southbound trains.  Station and stop IDs are not directly related.  Instead, the \"MAP_ID\" column references the stop's parent station.\n",
    "\n",
    "ADA accessibility information is stored in a boolean column named \"ADA\".  Because there is a row for each stop and multiple stops per station the structure of the data technically allows for stations that are partially accessible.  If such mixed-accessibility stations actually existed in the data then choices would need to be made about how to handle ridership data from them.  Thankfully they do not occur in the data.\n",
    "\n",
    "The various name columns, espeically \"STATION_NAME\" are not unique.  There are multiple stations with the same name, even on the same line.  The blue line has two stops named Western and two named Harlem, for example.\n",
    "\n",
    "There are are boolean columns indicating which lines a stop serves, and a location colum with physical location data.  Since these fields are not needed to uniquely identify a station, we don't need them for our analysis."
   ]
  },
  {
   "cell_type": "code",
   "execution_count": 532,
   "metadata": {},
   "outputs": [],
   "source": [
    "STATION_DATA_PATH = Path(\n",
    "    \"data/CTA_-_System_Information_-_List_of__L__Stops_20240921.csv\")"
   ]
  },
  {
   "cell_type": "code",
   "execution_count": 533,
   "metadata": {},
   "outputs": [],
   "source": [
    "stations_df = pd.read_csv(STATION_DATA_PATH,\n",
    "                          usecols=[\n",
    "                              \"MAP_ID\", \"STATION_NAME\", \"STATION_DESCRIPTIVE_NAME\", \"ADA\"],\n",
    "                          dtype={\"DIRECTION_ID\": \"category\",\n",
    "                                 \"STOP_NAME\": pd.StringDtype(),\n",
    "                                 \"STATION_NAME\": pd.StringDtype(),\n",
    "                                 \"STATION_DESCRIPTIVE_NAME\": pd.StringDtype(), },\n",
    "\n",
    "                          )"
   ]
  },
  {
   "cell_type": "code",
   "execution_count": 534,
   "metadata": {},
   "outputs": [
    {
     "data": {
      "text/html": [
       "<div>\n",
       "<style scoped>\n",
       "    .dataframe tbody tr th:only-of-type {\n",
       "        vertical-align: middle;\n",
       "    }\n",
       "\n",
       "    .dataframe tbody tr th {\n",
       "        vertical-align: top;\n",
       "    }\n",
       "\n",
       "    .dataframe thead th {\n",
       "        text-align: right;\n",
       "    }\n",
       "</style>\n",
       "<table border=\"1\" class=\"dataframe\">\n",
       "  <thead>\n",
       "    <tr style=\"text-align: right;\">\n",
       "      <th></th>\n",
       "      <th>STATION_NAME</th>\n",
       "      <th>STATION_DESCRIPTIVE_NAME</th>\n",
       "      <th>MAP_ID</th>\n",
       "      <th>ADA</th>\n",
       "    </tr>\n",
       "  </thead>\n",
       "  <tbody>\n",
       "    <tr>\n",
       "      <th>0</th>\n",
       "      <td>Cicero</td>\n",
       "      <td>Cicero (Pink Line)</td>\n",
       "      <td>40420</td>\n",
       "      <td>True</td>\n",
       "    </tr>\n",
       "    <tr>\n",
       "      <th>1</th>\n",
       "      <td>Central Park</td>\n",
       "      <td>Central Park (Pink Line)</td>\n",
       "      <td>40780</td>\n",
       "      <td>True</td>\n",
       "    </tr>\n",
       "    <tr>\n",
       "      <th>2</th>\n",
       "      <td>Halsted</td>\n",
       "      <td>Halsted (Green Line)</td>\n",
       "      <td>40940</td>\n",
       "      <td>True</td>\n",
       "    </tr>\n",
       "    <tr>\n",
       "      <th>3</th>\n",
       "      <td>Cumberland</td>\n",
       "      <td>Cumberland (Blue Line)</td>\n",
       "      <td>40230</td>\n",
       "      <td>True</td>\n",
       "    </tr>\n",
       "    <tr>\n",
       "      <th>4</th>\n",
       "      <td>Racine</td>\n",
       "      <td>Racine (Blue Line)</td>\n",
       "      <td>40470</td>\n",
       "      <td>False</td>\n",
       "    </tr>\n",
       "  </tbody>\n",
       "</table>\n",
       "</div>"
      ],
      "text/plain": [
       "   STATION_NAME  STATION_DESCRIPTIVE_NAME  MAP_ID    ADA\n",
       "0        Cicero        Cicero (Pink Line)   40420   True\n",
       "1  Central Park  Central Park (Pink Line)   40780   True\n",
       "2       Halsted      Halsted (Green Line)   40940   True\n",
       "3    Cumberland    Cumberland (Blue Line)   40230   True\n",
       "4        Racine        Racine (Blue Line)   40470  False"
      ]
     },
     "execution_count": 534,
     "metadata": {},
     "output_type": "execute_result"
    }
   ],
   "source": [
    "stations_df.head()"
   ]
  },
  {
   "cell_type": "markdown",
   "metadata": {},
   "source": [
    "### Ridership data"
   ]
  },
  {
   "cell_type": "markdown",
   "metadata": {},
   "source": [
    "Source: [CTA - Ridership - 'L' Station Entries - Monthly Day-Type Averages & Totals](https://data.cityofchicago.org/Transportation/CTA-Ridership-L-Station-Entries-Monthly-Day-Type-A/t2rn-p8d7/about_data)"
   ]
  },
  {
   "cell_type": "markdown",
   "metadata": {},
   "source": [
    "#### Overview"
   ]
  },
  {
   "cell_type": "markdown",
   "metadata": {},
   "source": [
    "This dataset is about stations.  Specifically, it tracks turnstyle numbers.  These numbers tell us nothing about which direction a passenger intends to travel and therefore nothing abou the stop that they intend to use.  This means that there is a mismatch in the level of detail between the dataset describing how many people ride and the dataset describing where they can go.\n",
    "\n",
    "The \"station_id\" column is the shared key between the datasets.  As in the list of stops, the \"stationame\" column is not unique."
   ]
  },
  {
   "cell_type": "code",
   "execution_count": 535,
   "metadata": {},
   "outputs": [],
   "source": [
    "\n",
    "RIDERSHIP_DATA_PATH = Path(\n",
    "    \"data/CTA_-_Ridership_-__L__Station_Entries_-_Monthly_Day-Type_Averages___Totals_20240921.csv\")"
   ]
  },
  {
   "cell_type": "code",
   "execution_count": 536,
   "metadata": {},
   "outputs": [],
   "source": [
    "ridership_df = pd.read_csv(\n",
    "    RIDERSHIP_DATA_PATH,\n",
    "    usecols=[\"station_id\", \"stationame\", \"month_beginning\", \"monthtotal\"],\n",
    "    dtype={\n",
    "        \"stationname\": pd.StringDtype()\n",
    "    },\n",
    "    parse_dates=[\"month_beginning\"],\n",
    ")"
   ]
  },
  {
   "cell_type": "code",
   "execution_count": 537,
   "metadata": {},
   "outputs": [
    {
     "data": {
      "text/html": [
       "<div>\n",
       "<style scoped>\n",
       "    .dataframe tbody tr th:only-of-type {\n",
       "        vertical-align: middle;\n",
       "    }\n",
       "\n",
       "    .dataframe tbody tr th {\n",
       "        vertical-align: top;\n",
       "    }\n",
       "\n",
       "    .dataframe thead th {\n",
       "        text-align: right;\n",
       "    }\n",
       "</style>\n",
       "<table border=\"1\" class=\"dataframe\">\n",
       "  <thead>\n",
       "    <tr style=\"text-align: right;\">\n",
       "      <th></th>\n",
       "      <th>station_id</th>\n",
       "      <th>stationame</th>\n",
       "      <th>month_beginning</th>\n",
       "      <th>monthtotal</th>\n",
       "    </tr>\n",
       "  </thead>\n",
       "  <tbody>\n",
       "    <tr>\n",
       "      <th>0</th>\n",
       "      <td>40900</td>\n",
       "      <td>Howard</td>\n",
       "      <td>2001-01-01</td>\n",
       "      <td>164447</td>\n",
       "    </tr>\n",
       "    <tr>\n",
       "      <th>1</th>\n",
       "      <td>41190</td>\n",
       "      <td>Jarvis</td>\n",
       "      <td>2001-01-01</td>\n",
       "      <td>40567</td>\n",
       "    </tr>\n",
       "    <tr>\n",
       "      <th>2</th>\n",
       "      <td>40100</td>\n",
       "      <td>Morse</td>\n",
       "      <td>2001-01-01</td>\n",
       "      <td>119772</td>\n",
       "    </tr>\n",
       "    <tr>\n",
       "      <th>3</th>\n",
       "      <td>41300</td>\n",
       "      <td>Loyola</td>\n",
       "      <td>2001-01-01</td>\n",
       "      <td>125008</td>\n",
       "    </tr>\n",
       "    <tr>\n",
       "      <th>4</th>\n",
       "      <td>40760</td>\n",
       "      <td>Granville</td>\n",
       "      <td>2001-01-01</td>\n",
       "      <td>84189</td>\n",
       "    </tr>\n",
       "  </tbody>\n",
       "</table>\n",
       "</div>"
      ],
      "text/plain": [
       "   station_id stationame month_beginning  monthtotal\n",
       "0       40900     Howard      2001-01-01      164447\n",
       "1       41190     Jarvis      2001-01-01       40567\n",
       "2       40100      Morse      2001-01-01      119772\n",
       "3       41300     Loyola      2001-01-01      125008\n",
       "4       40760  Granville      2001-01-01       84189"
      ]
     },
     "execution_count": 537,
     "metadata": {},
     "output_type": "execute_result"
    }
   ],
   "source": [
    "ridership_df.head()"
   ]
  },
  {
   "cell_type": "markdown",
   "metadata": {},
   "source": [
    "### Demonstrating the shared key between datasets"
   ]
  },
  {
   "cell_type": "markdown",
   "metadata": {},
   "source": [
    "The datasets are not described in great detail, so some of the relationships must be demonstrated through examination.  There's no obvious reason why a column named \"MAP_ID\" would identify a station, for example.  Let us check some examples."
   ]
  },
  {
   "cell_type": "markdown",
   "metadata": {},
   "source": [
    "First we need to find some station identifiers.  I know that there are some stops that contain the word \"Lake\" so let's get those."
   ]
  },
  {
   "cell_type": "code",
   "execution_count": 538,
   "metadata": {},
   "outputs": [
    {
     "data": {
      "text/html": [
       "<div>\n",
       "<style scoped>\n",
       "    .dataframe tbody tr th:only-of-type {\n",
       "        vertical-align: middle;\n",
       "    }\n",
       "\n",
       "    .dataframe tbody tr th {\n",
       "        vertical-align: top;\n",
       "    }\n",
       "\n",
       "    .dataframe thead th {\n",
       "        text-align: right;\n",
       "    }\n",
       "</style>\n",
       "<table border=\"1\" class=\"dataframe\">\n",
       "  <thead>\n",
       "    <tr style=\"text-align: right;\">\n",
       "      <th></th>\n",
       "      <th>STATION_NAME</th>\n",
       "      <th>STATION_DESCRIPTIVE_NAME</th>\n",
       "      <th>MAP_ID</th>\n",
       "      <th>ADA</th>\n",
       "    </tr>\n",
       "  </thead>\n",
       "  <tbody>\n",
       "    <tr>\n",
       "      <th>7</th>\n",
       "      <td>Clark/Lake</td>\n",
       "      <td>Clark/Lake (Blue, Brown, Green, Orange, Purple...</td>\n",
       "      <td>40380</td>\n",
       "      <td>True</td>\n",
       "    </tr>\n",
       "    <tr>\n",
       "      <th>36</th>\n",
       "      <td>Lake</td>\n",
       "      <td>Lake (Red Line)</td>\n",
       "      <td>41660</td>\n",
       "      <td>True</td>\n",
       "    </tr>\n",
       "    <tr>\n",
       "      <th>56</th>\n",
       "      <td>Harlem/Lake</td>\n",
       "      <td>Harlem/Lake (Green Line)</td>\n",
       "      <td>40020</td>\n",
       "      <td>True</td>\n",
       "    </tr>\n",
       "    <tr>\n",
       "      <th>62</th>\n",
       "      <td>Clark/Lake</td>\n",
       "      <td>Clark/Lake (Blue, Brown, Green, Orange, Purple...</td>\n",
       "      <td>40380</td>\n",
       "      <td>True</td>\n",
       "    </tr>\n",
       "    <tr>\n",
       "      <th>103</th>\n",
       "      <td>Lake</td>\n",
       "      <td>Lake (Red Line)</td>\n",
       "      <td>41660</td>\n",
       "      <td>True</td>\n",
       "    </tr>\n",
       "    <tr>\n",
       "      <th>180</th>\n",
       "      <td>Clark/Lake</td>\n",
       "      <td>Clark/Lake (Blue, Brown, Green, Orange, Purple...</td>\n",
       "      <td>40380</td>\n",
       "      <td>True</td>\n",
       "    </tr>\n",
       "    <tr>\n",
       "      <th>253</th>\n",
       "      <td>State/Lake</td>\n",
       "      <td>State/Lake (Brown, Green, Orange, Pink &amp; Purpl...</td>\n",
       "      <td>40260</td>\n",
       "      <td>False</td>\n",
       "    </tr>\n",
       "    <tr>\n",
       "      <th>261</th>\n",
       "      <td>Harlem/Lake</td>\n",
       "      <td>Harlem/Lake (Green Line)</td>\n",
       "      <td>40020</td>\n",
       "      <td>True</td>\n",
       "    </tr>\n",
       "    <tr>\n",
       "      <th>267</th>\n",
       "      <td>State/Lake</td>\n",
       "      <td>State/Lake (Brown, Green, Orange, Pink &amp; Purpl...</td>\n",
       "      <td>40260</td>\n",
       "      <td>False</td>\n",
       "    </tr>\n",
       "    <tr>\n",
       "      <th>290</th>\n",
       "      <td>Clark/Lake</td>\n",
       "      <td>Clark/Lake (Blue, Brown, Green, Orange, Purple...</td>\n",
       "      <td>40380</td>\n",
       "      <td>True</td>\n",
       "    </tr>\n",
       "  </tbody>\n",
       "</table>\n",
       "</div>"
      ],
      "text/plain": [
       "    STATION_NAME                           STATION_DESCRIPTIVE_NAME  MAP_ID  \\\n",
       "7     Clark/Lake  Clark/Lake (Blue, Brown, Green, Orange, Purple...   40380   \n",
       "36          Lake                                    Lake (Red Line)   41660   \n",
       "56   Harlem/Lake                           Harlem/Lake (Green Line)   40020   \n",
       "62    Clark/Lake  Clark/Lake (Blue, Brown, Green, Orange, Purple...   40380   \n",
       "103         Lake                                    Lake (Red Line)   41660   \n",
       "180   Clark/Lake  Clark/Lake (Blue, Brown, Green, Orange, Purple...   40380   \n",
       "253   State/Lake  State/Lake (Brown, Green, Orange, Pink & Purpl...   40260   \n",
       "261  Harlem/Lake                           Harlem/Lake (Green Line)   40020   \n",
       "267   State/Lake  State/Lake (Brown, Green, Orange, Pink & Purpl...   40260   \n",
       "290   Clark/Lake  Clark/Lake (Blue, Brown, Green, Orange, Purple...   40380   \n",
       "\n",
       "       ADA  \n",
       "7     True  \n",
       "36    True  \n",
       "56    True  \n",
       "62    True  \n",
       "103   True  \n",
       "180   True  \n",
       "253  False  \n",
       "261   True  \n",
       "267  False  \n",
       "290   True  "
      ]
     },
     "execution_count": 538,
     "metadata": {},
     "output_type": "execute_result"
    }
   ],
   "source": [
    "stations_df[stations_df[\"STATION_DESCRIPTIVE_NAME\"].str.contains(\"Lake\")]"
   ]
  },
  {
   "cell_type": "markdown",
   "metadata": {},
   "source": [
    "Let's try searching the ridership data for a few of the station identifiers we just found and see if they match."
   ]
  },
  {
   "cell_type": "code",
   "execution_count": 539,
   "metadata": {},
   "outputs": [
    {
     "data": {
      "text/plain": [
       "stationame\n",
       "Clark/Lake    281\n",
       "Name: count, dtype: int64"
      ]
     },
     "execution_count": 539,
     "metadata": {},
     "output_type": "execute_result"
    }
   ],
   "source": [
    "ridership_df[ridership_df[\"station_id\"] == 40380].value_counts(\"stationame\")"
   ]
  },
  {
   "cell_type": "code",
   "execution_count": 540,
   "metadata": {},
   "outputs": [
    {
     "data": {
      "text/plain": [
       "stationame\n",
       "Lake/State    281\n",
       "Name: count, dtype: int64"
      ]
     },
     "execution_count": 540,
     "metadata": {},
     "output_type": "execute_result"
    }
   ],
   "source": [
    "ridership_df[ridership_df[\"station_id\"] == 41660].value_counts(\"stationame\")"
   ]
  },
  {
   "cell_type": "code",
   "execution_count": 541,
   "metadata": {},
   "outputs": [
    {
     "data": {
      "text/plain": [
       "stationame\n",
       "Harlem-Lake    281\n",
       "Name: count, dtype: int64"
      ]
     },
     "execution_count": 541,
     "metadata": {},
     "output_type": "execute_result"
    }
   ],
   "source": [
    "ridership_df[ridership_df[\"station_id\"] == 40020].value_counts(\"stationame\")"
   ]
  },
  {
   "cell_type": "markdown",
   "metadata": {},
   "source": [
    "As we can see from the examples above the short names for the stations match - to a human - when linked by the ID columns that we found."
   ]
  },
  {
   "cell_type": "markdown",
   "metadata": {},
   "source": [
    "The datasets are clearly not carefully groomed since even the same dataset uses slashes to separate intersection names sometimes (Lake/State) and uses dashes (Harlem-Lake) at other times.  But we already knew this becuase \"MAP_ID\" and \"station_id\" are not in the same format.  That's just the nature of real-world datasets."
   ]
  },
  {
   "cell_type": "markdown",
   "metadata": {},
   "source": [
    "### Finding orphans"
   ]
  },
  {
   "cell_type": "markdown",
   "metadata": {},
   "source": [
    "Ideally the mapping between stations and ridership data would be complete.  Every station would have ridership numbers and all the ridership info would be linked to a station we knew about. Unfortunately that is not the case.  The code below finds any station identifiers that only occur in one dataset or the other.  There are five of them.  They are explained below."
   ]
  },
  {
   "cell_type": "markdown",
   "metadata": {},
   "source": [
    "The ridership data with no associated station information is for stations that have been closed.  The station with no ridership information is too new to appear in the data.  A major source of this information was the following link: https://www.chicago-l.org/stations/index.html\n",
    "\n"
   ]
  },
  {
   "cell_type": "markdown",
   "metadata": {},
   "source": [
    "1.  Madison/Wabash was closed in 2015  \n",
    "2.  Washington/State has been temporarily closed since 2006\n",
    "3.  Randolph/Wabash was closed in 2017. \n",
    "4.  Homan has been closed since 1994, permanently removed from the line in 1996\n",
    "5.  The Damen green line station opened in August 20224 so ridership data is not yet available in September 2024."
   ]
  },
  {
   "cell_type": "markdown",
   "metadata": {},
   "source": [
    "Stations with no ridership data:\n",
    "1.  41710: Damen (Green Line)\n",
    "\n"
   ]
  },
  {
   "cell_type": "markdown",
   "metadata": {},
   "source": [
    "Ridership data with no station information:\n",
    "1.  40500:  Washington/State\n",
    "2.  40640:    Madison/Wabash\n",
    "3.  40200:   Randolph/Wabash\n",
    "4.  41580:  Homan"
   ]
  },
  {
   "cell_type": "code",
   "execution_count": 542,
   "metadata": {},
   "outputs": [],
   "source": [
    "def find_orphan_station_ids(stations=stations_df, ridership=ridership_df):\n",
    "    map_id_set = set(stations[\"MAP_ID\"])\n",
    "    station_id_set = set(ridership[\"station_id\"])\n",
    "    print(f\"There are {len(map_id_set)} unique entries in the MAP_ID column\")\n",
    "    print(f\"There are {len(station_id_set)\n",
    "                       } unique entries in the station_id column\")\n",
    "    print(f\"There are {len((sd := map_id_set.symmetric_difference(\n",
    "        station_id_set)))} entries that only appear in one column or the other\")\n",
    "    print(f\"They are: {sd}\")\n",
    "    return sd"
   ]
  },
  {
   "cell_type": "code",
   "execution_count": 543,
   "metadata": {},
   "outputs": [
    {
     "name": "stdout",
     "output_type": "stream",
     "text": [
      "There are 144 unique entries in the MAP_ID column\n",
      "There are 147 unique entries in the station_id column\n",
      "There are 5 entries that only appear in one column or the other\n",
      "They are: {40500, 41580, 40640, 41710, 40200}\n"
     ]
    }
   ],
   "source": [
    "orphans = find_orphan_station_ids()"
   ]
  },
  {
   "cell_type": "code",
   "execution_count": 544,
   "metadata": {},
   "outputs": [
    {
     "name": "stdout",
     "output_type": "stream",
     "text": [
      "    STATION_NAME STATION_DESCRIPTIVE_NAME  MAP_ID   ADA\n",
      "300        Damen       Damen (Green Line)   41710  True\n",
      "301        Damen       Damen (Green Line)   41710  True\n"
     ]
    }
   ],
   "source": [
    "orphans_in_stop_list = stations_df[stations_df['MAP_ID'].isin(orphans)]\n",
    "print(orphans_in_stop_list)"
   ]
  },
  {
   "cell_type": "code",
   "execution_count": 545,
   "metadata": {},
   "outputs": [
    {
     "name": "stdout",
     "output_type": "stream",
     "text": [
      "     station_id        stationame\n",
      "20        40500  Washington/State\n",
      "138       40640    Madison/Wabash\n",
      "139       40200   Randolph/Wabash\n",
      "945       41580             Homan\n"
     ]
    }
   ],
   "source": [
    "oprhans_in_ridership_data = ridership_df[ridership_df[\"station_id\"].isin(\n",
    "    orphans)][[\"station_id\", \"stationame\"]].drop_duplicates()\n",
    "print(oprhans_in_ridership_data)"
   ]
  }
 ],
 "metadata": {
  "kernelspec": {
   "display_name": ".venv",
   "language": "python",
   "name": "python3"
  },
  "language_info": {
   "codemirror_mode": {
    "name": "ipython",
    "version": 3
   },
   "file_extension": ".py",
   "mimetype": "text/x-python",
   "name": "python",
   "nbconvert_exporter": "python",
   "pygments_lexer": "ipython3",
   "version": "3.12.6"
  }
 },
 "nbformat": 4,
 "nbformat_minor": 2
}
